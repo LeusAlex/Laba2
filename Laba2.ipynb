{
 "cells": [
  {
   "cell_type": "code",
   "execution_count": 9,
   "id": "30018c1e",
   "metadata": {},
   "outputs": [
    {
     "name": "stdout",
     "output_type": "stream",
     "text": [
      "Введите цену на яблоко в магазине Ашан: 12\n",
      "Введите цену на яблоко в магазине Магнит: 32\n",
      "Введите цену на яблоко в магазине Пятерочка: 23\n",
      "Введите цену на молоко в магазине Ашан: 345\n",
      "Введите цену на молоко в магазине Магнит: 456\n",
      "Введите цену на молоко в магазине Пятерочка: 567\n",
      "Введите цену на хлеб в магазине Ашан: 234\n",
      "Введите цену на хлеб в магазине Магнит: 345\n",
      "Введите цену на хлеб в магазине Пятерочка: 765\n",
      "\n",
      "Стоимость покупок в каждом магазине:\n",
      "Ашан: 591.0\n",
      "Магнит: 833.0\n",
      "Пятерочка: 1355.0\n",
      "\n",
      "Вы можете сэкономить больше всего денег в магазине Ашан.\n"
     ]
    }
   ],
   "source": [
    "items = [\"яблоко\", \"молоко\", \"хлеб\"]\n",
    "shops = [\"Ашан\", \"Магнит\", \"Пятерочка\"]\n",
    "\n",
    "prices = {}\n",
    "for item in items:\n",
    "    prices[item] = []\n",
    "    for shop in shops:\n",
    "        price = float(input(f\"Введите цену на {item} в магазине {shop}: \"))\n",
    "        prices[item].append(price)\n",
    "\n",
    "total_costs = {}\n",
    "for shop in shops:\n",
    "    total_cost = 0\n",
    "    for item in items:\n",
    "        total_cost += prices[item][shops.index(shop)]\n",
    "        total_costs[shop] = total_cost\n",
    "\n",
    "best_shop = min(total_costs, key=total_costs.get)\n",
    "\n",
    "print(\"\\nСтоимость покупок в каждом магазине:\")\n",
    "for shop in shops:\n",
    "    print(f\"{shop}: {total_costs[shop]}\")\n",
    "\n",
    "print(f\"\\nВы можете сэкономить больше всего денег в магазине {best_shop}.\")"
   ]
  }
 ],
 "metadata": {
  "kernelspec": {
   "display_name": "Python 3 (ipykernel)",
   "language": "python",
   "name": "python3"
  },
  "language_info": {
   "codemirror_mode": {
    "name": "ipython",
    "version": 3
   },
   "file_extension": ".py",
   "mimetype": "text/x-python",
   "name": "python",
   "nbconvert_exporter": "python",
   "pygments_lexer": "ipython3",
   "version": "3.11.5"
  }
 },
 "nbformat": 4,
 "nbformat_minor": 5
}
